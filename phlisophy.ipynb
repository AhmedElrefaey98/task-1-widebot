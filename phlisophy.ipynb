{
  "nbformat": 4,
  "nbformat_minor": 0,
  "metadata": {
    "colab": {
      "name": "phlisophy",
      "provenance": [],
      "collapsed_sections": [],
      "authorship_tag": "ABX9TyPIYO+GsVZ/tiJBUI3Sf5hx",
      "include_colab_link": true
    },
    "kernelspec": {
      "name": "python3",
      "display_name": "Python 3"
    }
  },
  "cells": [
    {
      "cell_type": "markdown",
      "metadata": {
        "id": "view-in-github",
        "colab_type": "text"
      },
      "source": [
        "<a href=\"https://colab.research.google.com/github/AhmedElrifo/task-1-widebot/blob/master/phlisophy.ipynb\" target=\"_parent\"><img src=\"https://colab.research.google.com/assets/colab-badge.svg\" alt=\"Open In Colab\"/></a>"
      ]
    },
    {
      "cell_type": "markdown",
      "metadata": {
        "id": "dWfgd05fdXrv",
        "colab_type": "text"
      },
      "source": [
        "We will use BeautifulSoup and requests "
      ]
    },
    {
      "cell_type": "code",
      "metadata": {
        "id": "RJYP_4IBVxOD",
        "colab_type": "code",
        "colab": {}
      },
      "source": [
        "\n",
        "from bs4 import BeautifulSoup\n",
        "import urllib\n",
        "import time\n",
        "import sys\n",
        "import requests"
      ],
      "execution_count": 6,
      "outputs": []
    },
    {
      "cell_type": "code",
      "metadata": {
        "id": "-eYuCzXxV1Z2",
        "colab_type": "code",
        "colab": {}
      },
      "source": [
        "start_url = \"https://en.wikipedia.org/wiki/Special:Random\"\n",
        "# target\n",
        "target_url = \"https://en.wikipedia.org/wiki/Philosophy\"\n",
        "# store the visited article \n",
        "visited_urls = [start_url]"
      ],
      "execution_count": 7,
      "outputs": []
    },
    {
      "cell_type": "code",
      "metadata": {
        "id": "eUFwzRAbXt_L",
        "colab_type": "code",
        "colab": {}
      },
      "source": [
        "\n",
        "def find_first_link(url):\n",
        "    response = requests.get(url)\n",
        "    html = response.text\n",
        "    soup = BeautifulSoup(html, \"html.parser\")\n",
        "\n",
        "    # This div stars with the body of the article\n",
        "    content_div = soup.find(id=\"mw-content-text\").find(class_=\"mw-parser-output\")\n",
        "\n",
        "    # if the link contains no links it remains None\n",
        "    article_link = None\n",
        "\n",
        "    # Find all the direct children of content_div that are paragraphs\n",
        "    for element in content_div.find_all(\"p\", recursive=False):\n",
        "        #find only the direct children\n",
        "        if element.find(\"a\", recursive=False):\n",
        "            article_link = element.find(\"a\", recursive=False).get('href')\n",
        "            break\n",
        "\n",
        "    if not article_link:\n",
        "        return\n",
        "\n",
        "    # Build a full url \n",
        "    first_link = urllib.parse.urljoin(\n",
        "        'https://en.wikipedia.org/', article_link)\n",
        "\n",
        "    return first_link"
      ],
      "execution_count": 8,
      "outputs": []
    },
    {
      "cell_type": "code",
      "metadata": {
        "id": "RMkfZFCqXxcf",
        "colab_type": "code",
        "colab": {}
      },
      "source": [
        "\n",
        "def continue_scraping(scraping_history, target_url, max_steps=30):\n",
        "    # When reaches to philosphy\n",
        "    if scraping_history[-1] == target_url:\n",
        "        print(\"Target ('Philosphy') article reached!\")\n",
        "        return False\n",
        "    # max iterations \n",
        "    elif len(scraping_history) > max_steps:\n",
        "        print(\"Maximum (30) searches reached, interrupted.\")\n",
        "        return False\n",
        "    elif scraping_history[-1] in scraping_history[:-1]:\n",
        "        print(\"We are in a Loop , interrupted.\")\n",
        "        return False\n",
        "    else:\n",
        "        return True"
      ],
      "execution_count": 9,
      "outputs": []
    },
    {
      "cell_type": "markdown",
      "metadata": {
        "id": "sHgVKBffdHpV",
        "colab_type": "text"
      },
      "source": [
        "\n",
        "### Getting to Philosophy will stop when :\n",
        "\n",
        "reaches the Philosophy article\n",
        "reaches 30 article without reaching the Philosophy article\n",
        "get into a article with no links\n",
        "stuck in a loop (like mathematics article"
      ]
    },
    {
      "cell_type": "code",
      "metadata": {
        "id": "-PpR-_KMX2bA",
        "colab_type": "code",
        "colab": {
          "base_uri": "https://localhost:8080/",
          "height": 119
        },
        "outputId": "3d331bd4-6e41-4d33-b2a7-64b782db59b6"
      },
      "source": [
        "while continue_scraping(visited_urls, target_url):\n",
        "    #print first link\n",
        "    print(visited_urls[-1])\n",
        "\n",
        "    first_link = find_first_link(visited_urls[-1])\n",
        "    # when arrive at an article with no links\n",
        "    if not first_link:\n",
        "        print(\"Arrived at an article with no links, search aborted.\")\n",
        "        break\n",
        "\n",
        "    visited_urls.append(first_link)\n",
        "\n",
        "    time.sleep(0.5)  # Slow things down so as to not overload Wikipedia's servers\n",
        "visited_urls=[start_url]"
      ],
      "execution_count": 10,
      "outputs": [
        {
          "output_type": "stream",
          "text": [
            "https://en.wikipedia.org/wiki/Special:Random\n",
            "https://en.wikipedia.org/wiki/Professional_wrestling\n",
            "https://en.wikipedia.org/wiki/Performance_art\n",
            "https://en.wikipedia.org/wiki/Fine_Arts\n",
            "https://en.wikipedia.org/wiki/Aesthetics\n",
            "Target ('Philosphy') article reached!\n"
          ],
          "name": "stdout"
        }
      ]
    },
    {
      "cell_type": "code",
      "metadata": {
        "id": "Gr-q2ubKX5_I",
        "colab_type": "code",
        "colab": {}
      },
      "source": [
        ""
      ],
      "execution_count": 10,
      "outputs": []
    }
  ]
}